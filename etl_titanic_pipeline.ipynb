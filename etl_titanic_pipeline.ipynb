{
  "nbformat": 4,
  "nbformat_minor": 0,
  "metadata": {
    "colab": {
      "provenance": []
    },
    "kernelspec": {
      "name": "python3",
      "display_name": "Python 3"
    },
    "language_info": {
      "name": "python"
    }
  },
  "cells": [
    {
      "cell_type": "code",
      "execution_count": 1,
      "metadata": {
        "id": "mlHsZdbGqMk5"
      },
      "outputs": [],
      "source": [
        "import pandas as pd\n",
        "import sqlite3\n",
        "import os"
      ]
    },
    {
      "cell_type": "code",
      "source": [
        "CSV_FILE = 'titanic.csv'\n",
        "DB_DIR = 'db'\n",
        "DB_FILE = os.path.join(DB_DIR, 'passengers.db')"
      ],
      "metadata": {
        "id": "DuYnVmrLqxQd"
      },
      "execution_count": 2,
      "outputs": []
    },
    {
      "cell_type": "code",
      "source": [
        "print(\"🔍 Extracting data from CSV...\")\n",
        "df = pd.read_csv(CSV_FILE)"
      ],
      "metadata": {
        "colab": {
          "base_uri": "https://localhost:8080/"
        },
        "id": "MUE2_eDcqxTZ",
        "outputId": "51197c9c-70fe-4496-8807-b8e974cf3a81"
      },
      "execution_count": 3,
      "outputs": [
        {
          "output_type": "stream",
          "name": "stdout",
          "text": [
            "🔍 Extracting data from CSV...\n"
          ]
        }
      ]
    },
    {
      "cell_type": "code",
      "source": [
        "# Step 2: Transform\n",
        "print(\"🔧 Cleaning and transforming data...\")\n",
        "# Drop rows with missing Age\n",
        "df = df.dropna(subset=['Age'])"
      ],
      "metadata": {
        "colab": {
          "base_uri": "https://localhost:8080/"
        },
        "id": "WdtRSj3BqxVP",
        "outputId": "83fe0dc8-e1bf-4b06-f341-c5fa7a7e3f75"
      },
      "execution_count": 4,
      "outputs": [
        {
          "output_type": "stream",
          "name": "stdout",
          "text": [
            "🔧 Cleaning and transforming data...\n"
          ]
        }
      ]
    },
    {
      "cell_type": "code",
      "source": [
        "# Fill missing Embarked with mode\n",
        "df['Embarked'].fillna(df['Embarked'].mode()[0], inplace=True)"
      ],
      "metadata": {
        "colab": {
          "base_uri": "https://localhost:8080/"
        },
        "id": "uURqkkocqxYR",
        "outputId": "8e44bb40-9057-491a-f955-c34aed0acba9"
      },
      "execution_count": 5,
      "outputs": [
        {
          "output_type": "stream",
          "name": "stderr",
          "text": [
            "<ipython-input-5-279c65de8424>:2: FutureWarning: A value is trying to be set on a copy of a DataFrame or Series through chained assignment using an inplace method.\n",
            "The behavior will change in pandas 3.0. This inplace method will never work because the intermediate object on which we are setting values always behaves as a copy.\n",
            "\n",
            "For example, when doing 'df[col].method(value, inplace=True)', try using 'df.method({col: value}, inplace=True)' or df[col] = df[col].method(value) instead, to perform the operation inplace on the original object.\n",
            "\n",
            "\n",
            "  df['Embarked'].fillna(df['Embarked'].mode()[0], inplace=True)\n"
          ]
        }
      ]
    },
    {
      "cell_type": "code",
      "source": [
        "# Normalize Fare\n",
        "df['Fare'] = df['Fare'].apply(lambda x: round(x, 2))"
      ],
      "metadata": {
        "id": "H7aA_4mxqxbt"
      },
      "execution_count": 6,
      "outputs": []
    },
    {
      "cell_type": "code",
      "source": [
        "# Step 3: Load\n",
        "print(\"💾 Loading into SQLite...\")\n",
        "# Create directory if not exists\n",
        "os.makedirs(DB_DIR, exist_ok=True)"
      ],
      "metadata": {
        "colab": {
          "base_uri": "https://localhost:8080/"
        },
        "id": "gPVbT7m2rI_H",
        "outputId": "e882f01c-37d1-4602-aeff-9a2cad3b4b5b"
      },
      "execution_count": 7,
      "outputs": [
        {
          "output_type": "stream",
          "name": "stdout",
          "text": [
            "💾 Loading into SQLite...\n"
          ]
        }
      ]
    },
    {
      "cell_type": "code",
      "source": [
        "# Define the SQLite database and table name\n",
        "DB_FILE = 'passengers.db'\n",
        "TABLE_NAME = 'passenger_data'"
      ],
      "metadata": {
        "id": "M_BrA8gArvAA"
      },
      "execution_count": 9,
      "outputs": []
    },
    {
      "cell_type": "code",
      "source": [
        "# Connect to SQLite\n",
        "conn = sqlite3.connect(DB_FILE)\n",
        "df.to_sql(TABLE_NAME, conn, if_exists='replace', index=False)\n"
      ],
      "metadata": {
        "colab": {
          "base_uri": "https://localhost:8080/"
        },
        "id": "5rAsgX20rJCG",
        "outputId": "fd34b982-b420-428b-cc88-2fd76f1d4774"
      },
      "execution_count": 10,
      "outputs": [
        {
          "output_type": "execute_result",
          "data": {
            "text/plain": [
              "714"
            ]
          },
          "metadata": {},
          "execution_count": 10
        }
      ]
    },
    {
      "cell_type": "code",
      "source": [
        "print(\"\\n📊 Summary Queries:\")\n",
        "cursor = conn.cursor()"
      ],
      "metadata": {
        "colab": {
          "base_uri": "https://localhost:8080/"
        },
        "id": "BelKyrP2rJE8",
        "outputId": "e4a31cee-a119-46d4-efc4-f0e62c6f2ab7"
      },
      "execution_count": 11,
      "outputs": [
        {
          "output_type": "stream",
          "name": "stdout",
          "text": [
            "\n",
            "📊 Summary Queries:\n"
          ]
        }
      ]
    },
    {
      "cell_type": "code",
      "source": [
        "cursor.execute(f\"SELECT COUNT(*) FROM {TABLE_NAME}\")\n",
        "print(\"Total passengers:\", cursor.fetchone()[0])"
      ],
      "metadata": {
        "colab": {
          "base_uri": "https://localhost:8080/"
        },
        "id": "vVVuqtMCrJID",
        "outputId": "ebb7f416-b635-4167-b94e-8b4e2f7bcef5"
      },
      "execution_count": 12,
      "outputs": [
        {
          "output_type": "stream",
          "name": "stdout",
          "text": [
            "Total passengers: 714\n"
          ]
        }
      ]
    },
    {
      "cell_type": "code",
      "source": [
        "# Average fare by class\n",
        "cursor.execute(f\"\"\"\n",
        "    SELECT Pclass, ROUND(AVG(Fare), 2) as AvgFare\n",
        "    FROM {TABLE_NAME}\n",
        "    GROUP BY Pclass\n",
        "\"\"\")"
      ],
      "metadata": {
        "colab": {
          "base_uri": "https://localhost:8080/"
        },
        "id": "SDyo2manrJLj",
        "outputId": "fa3a7922-8e13-4a96-c28a-b8df42e3d09e"
      },
      "execution_count": 13,
      "outputs": [
        {
          "output_type": "execute_result",
          "data": {
            "text/plain": [
              "<sqlite3.Cursor at 0x7f99d036d840>"
            ]
          },
          "metadata": {},
          "execution_count": 13
        }
      ]
    },
    {
      "cell_type": "code",
      "source": [
        "print(\"Average fare by class:\")\n",
        "for row in cursor.fetchall():\n",
        "    print(f\"  Class {row[0]}: €{row[1]}\")"
      ],
      "metadata": {
        "colab": {
          "base_uri": "https://localhost:8080/"
        },
        "id": "q9N7_pZWr8v5",
        "outputId": "f7be5091-7136-47f8-bb2b-b76674f76df0"
      },
      "execution_count": 14,
      "outputs": [
        {
          "output_type": "stream",
          "name": "stdout",
          "text": [
            "Average fare by class:\n",
            "  Class 1: €87.96\n",
            "  Class 2: €21.47\n",
            "  Class 3: €13.23\n"
          ]
        }
      ]
    },
    {
      "cell_type": "code",
      "source": [
        "conn.close()\n",
        "print(\"\\n✅ ETL pipeline completed.\")"
      ],
      "metadata": {
        "colab": {
          "base_uri": "https://localhost:8080/"
        },
        "id": "nShS1VEhr8zC",
        "outputId": "f6b0dec0-cd15-4390-e372-d785e21b6a8f"
      },
      "execution_count": 15,
      "outputs": [
        {
          "output_type": "stream",
          "name": "stdout",
          "text": [
            "\n",
            "✅ ETL pipeline completed.\n"
          ]
        }
      ]
    },
    {
      "cell_type": "code",
      "source": [
        "from google.colab import files\n",
        "files.download(DB_FILE)\n"
      ],
      "metadata": {
        "colab": {
          "base_uri": "https://localhost:8080/",
          "height": 17
        },
        "id": "lvOv7E0zr82b",
        "outputId": "a0dcb248-b5b3-47a3-f40f-77b23d21a250"
      },
      "execution_count": 17,
      "outputs": [
        {
          "output_type": "display_data",
          "data": {
            "text/plain": [
              "<IPython.core.display.Javascript object>"
            ],
            "application/javascript": [
              "\n",
              "    async function download(id, filename, size) {\n",
              "      if (!google.colab.kernel.accessAllowed) {\n",
              "        return;\n",
              "      }\n",
              "      const div = document.createElement('div');\n",
              "      const label = document.createElement('label');\n",
              "      label.textContent = `Downloading \"${filename}\": `;\n",
              "      div.appendChild(label);\n",
              "      const progress = document.createElement('progress');\n",
              "      progress.max = size;\n",
              "      div.appendChild(progress);\n",
              "      document.body.appendChild(div);\n",
              "\n",
              "      const buffers = [];\n",
              "      let downloaded = 0;\n",
              "\n",
              "      const channel = await google.colab.kernel.comms.open(id);\n",
              "      // Send a message to notify the kernel that we're ready.\n",
              "      channel.send({})\n",
              "\n",
              "      for await (const message of channel.messages) {\n",
              "        // Send a message to notify the kernel that we're ready.\n",
              "        channel.send({})\n",
              "        if (message.buffers) {\n",
              "          for (const buffer of message.buffers) {\n",
              "            buffers.push(buffer);\n",
              "            downloaded += buffer.byteLength;\n",
              "            progress.value = downloaded;\n",
              "          }\n",
              "        }\n",
              "      }\n",
              "      const blob = new Blob(buffers, {type: 'application/binary'});\n",
              "      const a = document.createElement('a');\n",
              "      a.href = window.URL.createObjectURL(blob);\n",
              "      a.download = filename;\n",
              "      div.appendChild(a);\n",
              "      a.click();\n",
              "      div.remove();\n",
              "    }\n",
              "  "
            ]
          },
          "metadata": {}
        },
        {
          "output_type": "display_data",
          "data": {
            "text/plain": [
              "<IPython.core.display.Javascript object>"
            ],
            "application/javascript": [
              "download(\"download_4765502c-8895-4b2b-ad8b-b608b981b4e0\", \"passengers.db\", 61440)"
            ]
          },
          "metadata": {}
        }
      ]
    },
    {
      "cell_type": "code",
      "source": [],
      "metadata": {
        "id": "CN3gcQ8ur85-"
      },
      "execution_count": null,
      "outputs": []
    }
  ]
}